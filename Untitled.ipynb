{
 "cells": [
  {
   "cell_type": "code",
   "execution_count": null,
   "id": "9ea22000",
   "metadata": {},
   "outputs": [],
   "source": [
    "import numpy as np\n",
    "tab=np.array([[24,26],[29,5]])\n",
    "np.max(tab)\n",
    "tabi=np.zeros((6,2))\n",
    "print(tabi)\n",
    "ca a plus rien à voir maintenant"
   ]
  },
  {
   "cell_type": "code",
   "execution_count": null,
   "id": "d45bd115",
   "metadata": {},
   "outputs": [],
   "source": [
    "2**2+3**2"
   ]
  },
  {
   "cell_type": "code",
   "execution_count": null,
   "id": "ce8c57d2",
   "metadata": {},
   "outputs": [],
   "source": [
    "print(4)"
   ]
  },
  {
   "cell_type": "code",
   "execution_count": null,
   "id": "92a1d5d1",
   "metadata": {},
   "outputs": [],
   "source": [
    "c=0\n",
    "def test():\n",
    "    while c==0:\n",
    "        for i in range(1,6):\n",
    "            for z in range(1,6):\n",
    "                if c==0:\n",
    "                    print ('bouh')\n",
    "                    break\n",
    "                    break\n",
    "                    break\n",
    "                    break\n",
    "                    \n",
    "test()"
   ]
  },
  {
   "cell_type": "code",
   "execution_count": null,
   "id": "6fcdfeb6",
   "metadata": {},
   "outputs": [],
   "source": []
  }
 ],
 "metadata": {
  "kernelspec": {
   "display_name": "Python 3 (ipykernel)",
   "language": "python",
   "name": "python3"
  },
  "language_info": {
   "codemirror_mode": {
    "name": "ipython",
    "version": 3
   },
   "file_extension": ".py",
   "mimetype": "text/x-python",
   "name": "python",
   "nbconvert_exporter": "python",
   "pygments_lexer": "ipython3",
   "version": "3.9.7"
  }
 },
 "nbformat": 4,
 "nbformat_minor": 5
}
